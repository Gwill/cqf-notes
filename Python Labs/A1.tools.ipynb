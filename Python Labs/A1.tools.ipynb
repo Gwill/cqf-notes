{
 "cells": [
  {
   "cell_type": "code",
   "execution_count": 5,
   "metadata": {},
   "outputs": [
    {
     "name": "stdout",
     "output_type": "stream",
     "text": [
      "10.PythonLabs_GARCH_Forecast.html to 10.PythonLabs_GARCH_Forecast.ipynb\n",
      "11.PythonLabs_Option_Pricing.html to 11.PythonLabs_Option_Pricing.ipynb\n",
      "12.PythonLabs_Quantlib_Python.html to 12.PythonLabs_Quantlib_Python.ipynb\n",
      "4.PythonLabs_Financial_TimeSeries.html to 4.PythonLabs_Financial_TimeSeries.ipynb\n",
      "5.PythonLabs_Modeling_Returns.html to 5.PythonLabs_Modeling_Returns.ipynb\n",
      "6.PythonLabs_Binomial_Model.html to 6.PythonLabs_Binomial_Model.ipynb\n",
      "7.PythonLabs_Advanced_Numpy.html to 7.PythonLabs_Advanced_Numpy.ipynb\n",
      "8.PythonLabs_Portfolio_Optimization.html to 8.PythonLabs_Portfolio_Optimization.ipynb\n",
      "9.PythonLabs_ValueAtRisk.html to 9.PythonLabs_ValueAtRisk.ipynb\n",
      "97.PythonLabs_Supplement.html to 97.PythonLabs_Supplement.ipynb\n",
      "98.PythonLabs_Lab_Notes.html to 98.PythonLabs_Lab_Notes.ipynb\n",
      "99.PythonLabs_Helper_Functions.html to 99.PythonLabs_Helper_Functions.ipynb\n"
     ]
    }
   ],
   "source": [
    "import os\n",
    "from bs4 import BeautifulSoup\n",
    "import json\n",
    "import urllib.request\n",
    "\n",
    "def html2ipynb(html_text) :\n",
    "    soup = BeautifulSoup(html_text, 'lxml')\n",
    "    # see some of the html\n",
    "    #print(soup.div)\n",
    "    dictionary = {'nbformat': 4, 'nbformat_minor': 1, 'cells': [], 'metadata': {}}\n",
    "    for d in soup.findAll(\"div\"):\n",
    "        if 'class' in d.attrs.keys():\n",
    "            for clas in d.attrs[\"class\"]:\n",
    "                if clas in [\"text_cell_render\", \"input_area\"]:\n",
    "                    # code cell\n",
    "                    if clas == \"input_area\":\n",
    "                        cell = {}\n",
    "                        cell['metadata'] = {}\n",
    "                        cell['outputs'] = []\n",
    "                        cell['source'] = [d.get_text()]\n",
    "                        cell['execution_count'] = None\n",
    "                        cell['cell_type'] = 'code'\n",
    "                        dictionary['cells'].append(cell)\n",
    "\n",
    "                    else:\n",
    "                        cell = {}\n",
    "                        cell['metadata'] = {}\n",
    "\n",
    "                        cell['source'] = [d.decode_contents()]\n",
    "                        cell['cell_type'] = 'markdown'\n",
    "                        dictionary['cells'].append(cell)\n",
    "    return json.dumps(dictionary)\n",
    "\n",
    "for f in os.listdir('.') :\n",
    "    name, ext = os.path.splitext(f)\n",
    "    if ext != '.html': continue\n",
    "    print(f, 'to', name + '.ipynb')\n",
    "\n",
    "    with open(f, 'r', encoding='utf-8') as infile :\n",
    "        html_text = infile.read()\n",
    "        with open(name + '.ipynb', 'w') as outfile :\n",
    "            ipynb_text = html2ipynb(html_text)\n",
    "            outfile.write(ipynb_text)\n"
   ]
  },
  {
   "cell_type": "code",
   "execution_count": null,
   "metadata": {},
   "outputs": [],
   "source": []
  }
 ],
 "metadata": {
  "kernelspec": {
   "display_name": "Python 3",
   "language": "python",
   "name": "python3"
  },
  "language_info": {
   "codemirror_mode": {
    "name": "ipython",
    "version": 3
   },
   "file_extension": ".py",
   "mimetype": "text/x-python",
   "name": "python",
   "nbconvert_exporter": "python",
   "pygments_lexer": "ipython3",
   "version": "3.7.5"
  }
 },
 "nbformat": 4,
 "nbformat_minor": 2
}
