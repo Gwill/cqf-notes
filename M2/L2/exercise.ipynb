{
 "cells": [
  {
   "cell_type": "code",
   "execution_count": 9,
   "metadata": {},
   "outputs": [
    {
     "name": "stdout",
     "output_type": "stream",
     "text": [
      "[[ 0.76228686]\n",
      " [ 0.84419926]\n",
      " [-0.98762956]\n",
      " [ 0.38114343]]\n",
      "[[0.29827662]\n",
      " [0.33694211]\n",
      " [0.21564295]\n",
      " [0.14913831]]\n"
     ]
    }
   ],
   "source": [
    "#M2L2 Exercise\n",
    "\n",
    "# 1\n",
    "import numpy as np\n",
    "\n",
    "\n",
    "mean = np.array([0.08, 0.10, 0.10, 0.14, ]).reshape(4, 1)\n",
    "std = np.array([0.12, 0.12, 0.15, 0.20, ]).reshape(4, 1)\n",
    "\n",
    "correlation1 = np.array([[1, 0.2, 0.5, 0.3, ],\n",
    "                         [0.2, 1, 0.7, 0.4, ],\n",
    "                         [0.5, 0.7, 1, 0.9, ],\n",
    "                         [0.3, 0.4, 0.9, 1, ], ])\n",
    "\n",
    "correlation2 = np.array([[1, 0, 0, 0, ],\n",
    "                         [0, 1, 0, 0, ],\n",
    "                         [0, 0, 1, 0, ],\n",
    "                         [0, 0, 0, 1, ], ])\n",
    "\n",
    "correlation3 = np.array([[1, 1, 1, 1, ],\n",
    "                         [1, 1, 1, 1, ],\n",
    "                         [1, 1, 1, 1, ],\n",
    "                         [1, 1, 1, 1, ], ])\n",
    "\n",
    "\n",
    "m = 0.1\n",
    "\n",
    "def weights(m, mean, std, correlation) :\n",
    "    unit = np.array([1.0, ] * len(mean)).reshape(len(mean), 1)\n",
    "    \n",
    "    # 向量变为对角阵\n",
    "    S = np.diag(std.reshape(4))\n",
    "    # 协方差矩阵\n",
    "    Cov = np.matmul(np.matmul(S, correlation), S)\n",
    "    # 协方差矩阵的逆矩阵\n",
    "    Cov = np.matrix(Cov)\n",
    "    Cov_reverse = Cov.I\n",
    "\n",
    "    # 三个中间变量\n",
    "    A = np.matmul(np.matmul(unit.T, Cov_reverse), unit).item(0, 0)\n",
    "    B = np.matmul(np.matmul(mean.T, Cov_reverse), unit).item(0, 0)\n",
    "    C = np.matmul(np.matmul(mean.T, Cov_reverse), mean).item(0, 0)\n",
    "\n",
    "    # 拉格朗日系数\n",
    "    lam = (A * m - B) / (A * C - B * B)\n",
    "    gam = (C - B * m) / (A * C - B * B)\n",
    "\n",
    "    # 权重w\n",
    "    w = np.matmul(Cov_reverse, lam * mean + gam * unit)\n",
    "    \n",
    "    return w\n",
    "\n",
    "w1 = weights(m, mean, std, correlation1)\n",
    "w2 = weights(m, mean, std, correlation2)\n",
    "#w3 = weights(m, mean, std, correlation3)\n",
    "\n",
    "print(w1)\n",
    "print(w2)\n",
    "#print(w3)\n"
   ]
  },
  {
   "cell_type": "code",
   "execution_count": null,
   "metadata": {},
   "outputs": [],
   "source": [
    "# 2"
   ]
  }
 ],
 "metadata": {
  "kernelspec": {
   "display_name": "Python 3",
   "language": "python",
   "name": "python3"
  },
  "language_info": {
   "codemirror_mode": {
    "name": "ipython",
    "version": 3
   },
   "file_extension": ".py",
   "mimetype": "text/x-python",
   "name": "python",
   "nbconvert_exporter": "python",
   "pygments_lexer": "ipython3",
   "version": "3.7.5"
  }
 },
 "nbformat": 4,
 "nbformat_minor": 2
}
